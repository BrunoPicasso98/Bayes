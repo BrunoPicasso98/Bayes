{
 "cells": [
  {
   "cell_type": "code",
   "execution_count": 1,
   "id": "189580f4",
   "metadata": {},
   "outputs": [
    {
     "name": "stderr",
     "output_type": "stream",
     "text": [
      "INFO:pystan:COMPILING THE C++ CODE FOR MODEL anon_model_5944b02c79788fa0db5b3a93728ca2bf NOW.\n"
     ]
    },
    {
     "data": {
      "text/plain": [
       "0.027758714905923625"
      ]
     },
     "execution_count": 1,
     "metadata": {},
     "output_type": "execute_result"
    }
   ],
   "source": [
    "# https://pystan2.readthedocs.io/en/latest/windows.html\n",
    "import pystan\n",
    "model_code = 'parameters {real y;} model {y ~ normal(0,1);}'\n",
    "model = pystan.StanModel(model_code=model_code)\n",
    "y = model.sampling().extract()['y']\n",
    "y.mean()  # with luck the result will be near 0"
   ]
  },
  {
   "cell_type": "code",
   "execution_count": null,
   "id": "dcbbf515",
   "metadata": {},
   "outputs": [],
   "source": []
  }
 ],
 "metadata": {
  "kernelspec": {
   "display_name": "Python 3 (ipykernel)",
   "language": "python",
   "name": "python3"
  },
  "language_info": {
   "codemirror_mode": {
    "name": "ipython",
    "version": 3
   },
   "file_extension": ".py",
   "mimetype": "text/x-python",
   "name": "python",
   "nbconvert_exporter": "python",
   "pygments_lexer": "ipython3",
   "version": "3.7.11"
  }
 },
 "nbformat": 4,
 "nbformat_minor": 5
}
