{
 "cells": [
  {
   "cell_type": "code",
   "execution_count": 1,
   "id": "46080c6e",
   "metadata": {},
   "outputs": [
    {
     "name": "stderr",
     "output_type": "stream",
     "text": [
      "INFO:pystan:COMPILING THE C++ CODE FOR MODEL anon_model_5944b02c79788fa0db5b3a93728ca2bf NOW.\n"
     ]
    },
    {
     "data": {
      "text/plain": [
       "-0.036107469752448225"
      ]
     },
     "execution_count": 1,
     "metadata": {},
     "output_type": "execute_result"
    }
   ],
   "source": [
    "import pystan\n",
    "model_code = 'parameters {real y;} model {y ~ normal(0,1);}'\n",
    "model = pystan.StanModel(model_code=model_code)\n",
    "y = model.sampling().extract()['y']\n",
    "y.mean()  # with luck the result will be near 0"
   ]
  },
  {
   "cell_type": "code",
   "execution_count": 6,
   "id": "acaf7fac",
   "metadata": {},
   "outputs": [],
   "source": [
    "import matplotlib.pyplot as plt\n",
    "import seaborn as sns\n",
    "import pandas as pd\n",
    "import numpy as np\n",
    "\n",
    "sns.set()\n",
    "np.random.seed(101)\n",
    "\n",
    "model = \"\"\"\n",
    "data {\n",
    "    int<lower=0> N;\n",
    "    vector[N] x;\n",
    "    vector[N] y;\n",
    "}\n",
    "parameters {\n",
    "    real alpha;\n",
    "    real beta;\n",
    "    real<lower=0> sigma; \n",
    "}\n",
    "model {\n",
    "    y ~ normal(alpha + beta*x, sigma);\n",
    "}\"\"\""
   ]
  },
  {
   "cell_type": "code",
   "execution_count": 7,
   "id": "20dbca1d",
   "metadata": {},
   "outputs": [],
   "source": [
    "# Parameters to be inferred\n",
    "alpha = 4.0\n",
    "beta = 0.5\n",
    "sigma = 1.0\n",
    "\n",
    "# Generate and plot the data\n",
    "x = 10 * np.random.rand(100)\n",
    "y = alpha + beta*x\n",
    "y = np.random.normal(y, scale = sigma)"
   ]
  },
  {
   "cell_type": "code",
   "execution_count": 8,
   "id": "2561b402",
   "metadata": {},
   "outputs": [
    {
     "name": "stderr",
     "output_type": "stream",
     "text": [
      "INFO:pystan:COMPILING THE C++ CODE FOR MODEL anon_model_855fc1b4b34c51a65d5e55bff2f8ec0a NOW.\n"
     ]
    }
   ],
   "source": [
    "# Put our data in dictionary\n",
    "data = {'N': len(x), 'x': x, 'y': y}\n",
    "\n",
    "#Compile the model\n",
    "sm = pystan.StanModel(model_code=model)\n",
    "\n",
    "#Train the model and generate \n",
    "fit = sm.sampling(data = data, iter = 1000, chains = 4, warmup = 500, thin=1, seed = 101)\n"
   ]
  },
  {
   "cell_type": "code",
   "execution_count": 11,
   "id": "485354d7",
   "metadata": {},
   "outputs": [
    {
     "name": "stdout",
     "output_type": "stream",
     "text": [
      "Inference for Stan model: anon_model_855fc1b4b34c51a65d5e55bff2f8ec0a.\n",
      "4 chains, each with iter=1000; warmup=500; thin=1; \n",
      "post-warmup draws per chain=500, total post-warmup draws=2000.\n",
      "\n",
      "        mean se_mean     sd   2.5%    25%    50%    75%  97.5%  n_eff   Rhat\n",
      "alpha   3.85  6.6e-3    0.2   3.47   3.72   3.84   3.99   4.26    937    1.0\n",
      "beta    0.52  1.1e-3   0.03   0.45    0.5   0.52   0.54   0.58    952    1.0\n",
      "sigma   1.01  2.3e-3   0.07   0.88   0.96   1.01   1.06   1.17    962    1.0\n",
      "lp__  -50.66    0.05   1.24 -53.93 -51.18 -50.32 -49.77 -49.28    677    1.0\n",
      "\n",
      "Samples were drawn using NUTS at Fri Apr  1 12:50:05 2022.\n",
      "For each parameter, n_eff is a crude measure of effective sample size,\n",
      "and Rhat is the potential scale reduction factor on split chains (at \n",
      "convergence, Rhat=1).\n"
     ]
    }
   ],
   "source": [
    "print(fit.stansummary())"
   ]
  },
  {
   "cell_type": "code",
   "execution_count": 12,
   "id": "0e0f6676",
   "metadata": {},
   "outputs": [],
   "source": [
    "summary_dict = fit.summary()\n",
    "df = pd.DataFrame(summary_dict['summary'], \n",
    "                  columns=summary_dict['summary_colnames'], \n",
    "                  index=summary_dict['summary_rownames'])\n",
    "\n",
    "alpha_mean, beta_mean = df['mean']['alpha'], df['mean']['beta']\n",
    "\n",
    "# Extracting traces\n",
    "alpha = fit['alpha']\n",
    "beta = fit['beta']\n",
    "sigma = fit['sigma']\n",
    "lp = fit['lp__']"
   ]
  },
  {
   "cell_type": "markdown",
   "id": "0d3355fe",
   "metadata": {},
   "source": [
    "# Coin Toss inference"
   ]
  },
  {
   "cell_type": "code",
   "execution_count": 15,
   "id": "146a8ecb",
   "metadata": {},
   "outputs": [],
   "source": [
    "import pystan\n",
    "import pickle\n",
    "import numpy as np\n",
    "import arviz as az\n",
    "import pandas as pd\n",
    "import seaborn as sns\n",
    "import statsmodels.api as statmod\n",
    "import matplotlib.pyplot as plt\n",
    "from IPython.display import Image\n",
    "from IPython.core.display import HTML"
   ]
  },
  {
   "cell_type": "code",
   "execution_count": 16,
   "id": "5f176ba2",
   "metadata": {},
   "outputs": [
    {
     "name": "stderr",
     "output_type": "stream",
     "text": [
      "C:\\Users\\Usuario\\Anaconda3\\envs\\myenv2\\lib\\site-packages\\seaborn\\distributions.py:2619: FutureWarning: `distplot` is a deprecated function and will be removed in a future version. Please adapt your code to use either `displot` (a figure-level function with similar flexibility) or `histplot` (an axes-level function for histograms).\n",
      "  warnings.warn(msg, FutureWarning)\n"
     ]
    },
    {
     "data": {
      "text/plain": [
       "<AxesSubplot:>"
      ]
     },
     "execution_count": 16,
     "metadata": {},
     "output_type": "execute_result"
    },
    {
     "data": {
      "image/png": "[encoded data removed]",
      "text/plain": [
       "<Figure size 432x288 with 1 Axes>"
      ]
     },
     "metadata": {},
     "output_type": "display_data"
    }
   ],
   "source": [
    "sns.distplot(np.random.beta(5,5, size=10000),kde=False)"
   ]
  },
  {
   "cell_type": "code",
   "execution_count": 22,
   "id": "328b9cae",
   "metadata": {},
   "outputs": [
    {
     "name": "stderr",
     "output_type": "stream",
     "text": [
      "INFO:pystan:COMPILING THE C++ CODE FOR MODEL anon_model_d3835c4370ff5e66f1e88bd3eac647ff NOW.\n"
     ]
    },
    {
     "name": "stdout",
     "output_type": "stream",
     "text": [
      "Inference for Stan model: anon_model_d3835c4370ff5e66f1e88bd3eac647ff.\n",
      "4 chains, each with iter=4000; warmup=1000; thin=1; \n",
      "post-warmup draws per chain=3000, total post-warmup draws=12000.\n",
      "\n",
      "        mean se_mean     sd   2.5%    25%    50%    75%  97.5%  n_eff   Rhat\n",
      "theta   0.25  1.3e-3   0.09   0.09   0.18   0.24   0.31   0.46   4939    1.0\n",
      "lp__  -11.76    0.01   0.74 -13.84 -11.94 -11.48  -11.3 -11.25   5189    1.0\n",
      "\n",
      "Samples were drawn using NUTS at Fri Apr  1 14:14:34 2022.\n",
      "For each parameter, n_eff is a crude measure of effective sample size,\n",
      "and Rhat is the potential scale reduction factor on split chains (at \n",
      "convergence, Rhat=1).\n"
     ]
    }
   ],
   "source": [
    "# bernoulli model\n",
    "model_code = \"\"\"\n",
    "    data {\n",
    "      int<lower=0> N;\n",
    "      int<lower=0,upper=1> y[N];\n",
    "    }\n",
    "    parameters {\n",
    "      real<lower=0,upper=1> theta;\n",
    "    }\n",
    "    model {\n",
    "      theta ~ beta(5, 5);\n",
    "      for (n in 1:N)\n",
    "          y[n] ~ bernoulli(theta);\n",
    "    }\n",
    "    \"\"\"\n",
    "data = dict(N=10, y=[0, 0, 0, 0, 0, 0, 0, 0, 0, 0])\n",
    "model = pystan.StanModel(model_code=model_code)\n",
    "fit = model.sampling(data=data,iter=4000, chains=4, warmup=1000)\n",
    "la = fit.extract(permuted=True)  # return a dictionary of arrays\n",
    "print(fit.stansummary())"
   ]
  },
  {
   "cell_type": "code",
   "execution_count": null,
   "id": "d366d5c9",
   "metadata": {},
   "outputs": [],
   "source": []
  }
 ],
 "metadata": {
  "kernelspec": {
   "display_name": "Python 3 (ipykernel)",
   "language": "python",
   "name": "python3"
  },
  "language_info": {
   "codemirror_mode": {
    "name": "ipython",
    "version": 3
   },
   "file_extension": ".py",
   "mimetype": "text/x-python",
   "name": "python",
   "nbconvert_exporter": "python",
   "pygments_lexer": "ipython3",
   "version": "3.9.11"
  }
 },
 "nbformat": 4,
 "nbformat_minor": 5
}
